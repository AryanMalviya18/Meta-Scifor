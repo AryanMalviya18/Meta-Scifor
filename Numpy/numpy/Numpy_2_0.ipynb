{
  "cells": [
    {
      "cell_type": "code",
      "execution_count": 1,
      "id": "61b41e66",
      "metadata": {
        "id": "61b41e66"
      },
      "outputs": [],
      "source": [
        "\n",
        "#Study of Numpy and its Function"
      ]
    },
    {
      "cell_type": "code",
      "execution_count": 2,
      "id": "748a8ba5",
      "metadata": {
        "id": "748a8ba5"
      },
      "outputs": [],
      "source": [
        "import numpy as np"
      ]
    },
    {
      "cell_type": "code",
      "execution_count": 3,
      "id": "c0804514",
      "metadata": {
        "id": "c0804514"
      },
      "outputs": [],
      "source": [
        "emp_salary=np.random.randint(8,70,10)"
      ]
    },
    {
      "cell_type": "code",
      "execution_count": 4,
      "id": "15d8fc62",
      "metadata": {
        "colab": {
          "base_uri": "https://localhost:8080/"
        },
        "id": "15d8fc62",
        "outputId": "cdc26a61-81fc-4711-8a2b-da270ff12c9c"
      },
      "outputs": [
        {
          "output_type": "execute_result",
          "data": {
            "text/plain": [
              "array([34, 24, 27, 67, 33, 63, 27, 69, 32, 27])"
            ]
          },
          "metadata": {},
          "execution_count": 4
        }
      ],
      "source": [
        "emp_salary"
      ]
    },
    {
      "cell_type": "code",
      "execution_count": 5,
      "id": "722f4f4e",
      "metadata": {
        "id": "722f4f4e"
      },
      "outputs": [],
      "source": [
        "#set minimum and maximum salary using a_min and a_max"
      ]
    },
    {
      "cell_type": "code",
      "execution_count": 6,
      "id": "e59e0912",
      "metadata": {
        "colab": {
          "base_uri": "https://localhost:8080/"
        },
        "id": "e59e0912",
        "outputId": "a75f75c5-7a9a-4690-9dbc-54d7a8331494"
      },
      "outputs": [
        {
          "output_type": "execute_result",
          "data": {
            "text/plain": [
              "array([34, 24, 27, 50, 33, 50, 27, 50, 32, 27])"
            ]
          },
          "metadata": {},
          "execution_count": 6
        }
      ],
      "source": [
        "np.clip(emp_salary,a_min=20,a_max=50)# if we use clip method then all maximum and minimum value we can set as per our use"
      ]
    },
    {
      "cell_type": "code",
      "execution_count": 7,
      "id": "46e5ec59",
      "metadata": {
        "id": "46e5ec59"
      },
      "outputs": [],
      "source": [
        "#If you want to find actual salary which are less then or greater than some salary use np.where\n",
        "#np.where gives index detail"
      ]
    },
    {
      "cell_type": "code",
      "execution_count": 8,
      "id": "1b2d5f2c",
      "metadata": {
        "colab": {
          "base_uri": "https://localhost:8080/"
        },
        "id": "1b2d5f2c",
        "outputId": "2aa43942-d5c3-4a9d-c5e6-4257ae03f978"
      },
      "outputs": [
        {
          "output_type": "stream",
          "name": "stdout",
          "text": [
            "(array([1]),)\n"
          ]
        }
      ],
      "source": [
        "print(np.where(emp_salary <25))"
      ]
    },
    {
      "cell_type": "code",
      "execution_count": 9,
      "id": "7af86183",
      "metadata": {
        "id": "7af86183"
      },
      "outputs": [],
      "source": [
        "#If you want to see actual data, use index"
      ]
    },
    {
      "cell_type": "code",
      "execution_count": 10,
      "id": "3463761b",
      "metadata": {
        "colab": {
          "base_uri": "https://localhost:8080/"
        },
        "id": "3463761b",
        "outputId": "cf85e4ea-88f5-4266-84a7-b699f7fcf0f2"
      },
      "outputs": [
        {
          "output_type": "execute_result",
          "data": {
            "text/plain": [
              "array([24, 33])"
            ]
          },
          "metadata": {},
          "execution_count": 10
        }
      ],
      "source": [
        "emp_salary[[1,4]]"
      ]
    },
    {
      "cell_type": "code",
      "execution_count": 11,
      "id": "88fdffc1",
      "metadata": {
        "id": "88fdffc1"
      },
      "outputs": [],
      "source": [
        "#similarly you can  check for any condition (<,>,=,==,<=,>=)"
      ]
    },
    {
      "cell_type": "code",
      "execution_count": 12,
      "id": "c6698932",
      "metadata": {
        "id": "c6698932"
      },
      "outputs": [],
      "source": [
        "#Reshaping Otherways"
      ]
    },
    {
      "cell_type": "code",
      "execution_count": 12,
      "id": "d58fbfde",
      "metadata": {
        "id": "d58fbfde"
      },
      "outputs": [],
      "source": []
    },
    {
      "cell_type": "code",
      "execution_count": 13,
      "id": "173a9f65",
      "metadata": {
        "id": "173a9f65"
      },
      "outputs": [],
      "source": [
        "import numpy as np\n",
        "from numpy.random import randint as ri"
      ]
    },
    {
      "cell_type": "code",
      "execution_count": 14,
      "id": "08c862ff",
      "metadata": {
        "colab": {
          "base_uri": "https://localhost:8080/"
        },
        "id": "08c862ff",
        "outputId": "4bc9d773-cdcd-4ad0-a46e-b36e4bf794fd"
      },
      "outputs": [
        {
          "output_type": "stream",
          "name": "stdout",
          "text": [
            "[20 60 70 90 20 50 74 30  1 98  9 49 95 60 60 92 16 19 11 85 15 69 28 65\n",
            " 39  6 56 88 46 89]\n"
          ]
        }
      ],
      "source": [
        "a=ri(1,99,30)\n",
        "print(a)"
      ]
    },
    {
      "cell_type": "code",
      "execution_count": 15,
      "id": "e2e1d17c",
      "metadata": {
        "colab": {
          "base_uri": "https://localhost:8080/"
        },
        "id": "e2e1d17c",
        "outputId": "3ddfb9e9-950d-4736-b45a-c23efaedb680"
      },
      "outputs": [
        {
          "output_type": "stream",
          "name": "stdout",
          "text": [
            "[[[20 60 70 90 20]\n",
            "  [50 74 30  1 98]\n",
            "  [ 9 49 95 60 60]]\n",
            "\n",
            " [[92 16 19 11 85]\n",
            "  [15 69 28 65 39]\n",
            "  [ 6 56 88 46 89]]]\n"
          ]
        }
      ],
      "source": [
        "b=a.reshape(2,3,5)\n",
        "print(b)"
      ]
    },
    {
      "cell_type": "code",
      "execution_count": 16,
      "id": "359c5e0b",
      "metadata": {
        "colab": {
          "base_uri": "https://localhost:8080/"
        },
        "id": "359c5e0b",
        "outputId": "b03eb40c-9684-43f2-b111-3f85ba3c0b94"
      },
      "outputs": [
        {
          "output_type": "stream",
          "name": "stdout",
          "text": [
            "[[20 60 70 90 20]\n",
            " [50 74 30  1 98]\n",
            " [ 9 49 95 60 60]\n",
            " [92 16 19 11 85]\n",
            " [15 69 28 65 39]\n",
            " [ 6 56 88 46 89]]\n"
          ]
        }
      ],
      "source": [
        "c=a.reshape(6,5)\n",
        "print(c)"
      ]
    },
    {
      "cell_type": "code",
      "execution_count": 17,
      "id": "6c85cde5",
      "metadata": {
        "colab": {
          "base_uri": "https://localhost:8080/"
        },
        "id": "6c85cde5",
        "outputId": "f88087da-73a0-477e-ac2f-c525feb56e47"
      },
      "outputs": [
        {
          "output_type": "stream",
          "name": "stdout",
          "text": [
            "Minimum of a is  1\n",
            "Maximum of a is  98\n"
          ]
        }
      ],
      "source": [
        "print(\"Minimum of a is \",c.min())\n",
        "print(\"Maximum of a is \",c.max())"
      ]
    },
    {
      "cell_type": "code",
      "execution_count": 18,
      "id": "2510119b",
      "metadata": {
        "id": "2510119b"
      },
      "outputs": [],
      "source": [
        "#Sorting"
      ]
    },
    {
      "cell_type": "code",
      "execution_count": 19,
      "id": "00319595",
      "metadata": {
        "colab": {
          "base_uri": "https://localhost:8080/"
        },
        "id": "00319595",
        "outputId": "80583c9a-1e26-43e0-d20a-64b6e0bda37e"
      },
      "outputs": [
        {
          "output_type": "stream",
          "name": "stdout",
          "text": [
            "\n",
            " 5 X 5 matrix of random integer \n",
            " -------------------------------------------------- \n",
            " [[99 52 88  4 66]\n",
            " [91  5 13 37 32]\n",
            " [25 40  6 38 67]\n",
            " [73 81 93  3 99]\n",
            " [50  3 18 62 74]]\n",
            "\n",
            " Here is the sorted matrix along each row \n",
            " -------------------------------------------------- \n",
            " [[ 4 52 66 88 99]\n",
            " [ 5 13 32 37 91]\n",
            " [ 6 25 38 40 67]\n",
            " [ 3 73 81 93 99]\n",
            " [ 3 18 50 62 74]]\n",
            "\n",
            " Here is the sorted matrix along each column \n",
            " -------------------------------------------------- \n",
            " [[25  3  6  3 32]\n",
            " [50  5 13  4 66]\n",
            " [73 40 18 37 67]\n",
            " [91 52 88 38 74]\n",
            " [99 81 93 62 99]]\n"
          ]
        }
      ],
      "source": [
        "m=ri(1,100,25).reshape(5,5) #matrix of random integer\n",
        "print(\"\\n 5 X 5 matrix of random integer \\n\",'-'*50,'\\n',m)\n",
        "print(\"\\n Here is the sorted matrix along each row \\n\",'-'*50,'\\n',np.sort(m))#default axis=1\n",
        "print(\"\\n Here is the sorted matrix along each column \\n\",'-'*50,'\\n',np.sort(m,axis=0))"
      ]
    },
    {
      "cell_type": "code",
      "execution_count": 20,
      "id": "fa5a87a5",
      "metadata": {
        "id": "fa5a87a5"
      },
      "outputs": [],
      "source": [
        "# Index and slicing"
      ]
    },
    {
      "cell_type": "code",
      "execution_count": 21,
      "id": "3f1a0752",
      "metadata": {
        "colab": {
          "base_uri": "https://localhost:8080/"
        },
        "id": "3f1a0752",
        "outputId": "8249a600-2ca8-43e2-e470-4589091736bb"
      },
      "outputs": [
        {
          "output_type": "stream",
          "name": "stdout",
          "text": [
            "Array [13 14 15 16 17 18 19 20 21 22 23 24 25 26 27 28 29]\n"
          ]
        }
      ],
      "source": [
        "arr=np.arange(13,30)\n",
        "print(\"Array\",arr)"
      ]
    },
    {
      "cell_type": "code",
      "execution_count": 22,
      "id": "f0fae17b",
      "metadata": {
        "colab": {
          "base_uri": "https://localhost:8080/"
        },
        "id": "f0fae17b",
        "outputId": "620c9fe9-c10d-4488-fd6f-fdbfec5079a5"
      },
      "outputs": [
        {
          "output_type": "stream",
          "name": "stdout",
          "text": [
            "Element of 7th index is = 20\n"
          ]
        }
      ],
      "source": [
        "print(\"Element of 7th index is =\",arr[7])"
      ]
    },
    {
      "cell_type": "code",
      "execution_count": 23,
      "id": "513f8cda",
      "metadata": {
        "colab": {
          "base_uri": "https://localhost:8080/"
        },
        "id": "513f8cda",
        "outputId": "dd1a801e-8cf1-4f9e-e3ea-03b4f8881422"
      },
      "outputs": [
        {
          "output_type": "stream",
          "name": "stdout",
          "text": [
            "Element of 3rd and 5th index is =  [16 17]\n"
          ]
        }
      ],
      "source": [
        "print(\"Element of 3rd and 5th index is = \",arr[3:5])"
      ]
    },
    {
      "cell_type": "code",
      "execution_count": 24,
      "id": "5559db6f",
      "metadata": {
        "colab": {
          "base_uri": "https://localhost:8080/"
        },
        "id": "5559db6f",
        "outputId": "9ee74de5-bd80-4b64-f98c-f19cec7c6899"
      },
      "outputs": [
        {
          "output_type": "stream",
          "name": "stdout",
          "text": [
            "Element up to 4th index are : [17 18 19 20 21 22 23 24 25 26 27 28 29]\n"
          ]
        }
      ],
      "source": [
        "print(\"Element up to 4th index are :\",arr[4:])"
      ]
    },
    {
      "cell_type": "code",
      "execution_count": 25,
      "id": "cadfb11f",
      "metadata": {
        "id": "cadfb11f"
      },
      "outputs": [],
      "source": [
        "#Store arr in abc and check upto 4th index of abc"
      ]
    },
    {
      "cell_type": "code",
      "execution_count": 26,
      "id": "344b5959",
      "metadata": {
        "colab": {
          "base_uri": "https://localhost:8080/"
        },
        "id": "344b5959",
        "outputId": "020491ea-a99c-42b0-cd5b-05529d658cfc"
      },
      "outputs": [
        {
          "output_type": "stream",
          "name": "stdout",
          "text": [
            "[17 18 19 20 21 22 23 24 25 26 27 28 29]\n"
          ]
        }
      ],
      "source": [
        "abc=arr[4:]\n",
        "print(abc)"
      ]
    },
    {
      "cell_type": "code",
      "execution_count": 27,
      "id": "1c4e8c0d",
      "metadata": {
        "colab": {
          "base_uri": "https://localhost:8080/"
        },
        "id": "1c4e8c0d",
        "outputId": "a62da359-d0b7-49c9-d8fa-7b8117055d4d"
      },
      "outputs": [
        {
          "output_type": "stream",
          "name": "stdout",
          "text": [
            "Element from last backwords :  [29 27 25 23 21 19 17]\n"
          ]
        }
      ],
      "source": [
        "print(\"Element from last backwords : \",abc[-1::-2])"
      ]
    },
    {
      "cell_type": "code",
      "execution_count": 28,
      "id": "38c178d4",
      "metadata": {
        "colab": {
          "base_uri": "https://localhost:8080/"
        },
        "id": "38c178d4",
        "outputId": "a2b2f05c-999f-408f-b09f-c3910332319e"
      },
      "outputs": [
        {
          "output_type": "stream",
          "name": "stdout",
          "text": [
            "7th elemets from last backword are :  [29 28 27 26 25 24 23]\n"
          ]
        }
      ],
      "source": [
        "print(\"7th elemets from last backword are : \",arr[-1:-8:-1])"
      ]
    },
    {
      "cell_type": "code",
      "execution_count": 29,
      "id": "d65d15e2",
      "metadata": {
        "colab": {
          "base_uri": "https://localhost:8080/"
        },
        "id": "d65d15e2",
        "outputId": "f1a49db6-3ab6-436a-b76f-a5125bec300c"
      },
      "outputs": [
        {
          "output_type": "stream",
          "name": "stdout",
          "text": [
            "Elements at 2nd 4th and 9th index are :  [15 17 22]\n"
          ]
        }
      ],
      "source": [
        "print(\"Elements at 2nd 4th and 9th index are : \",arr[[2,4,9]])#Pass a list as a index to subset"
      ]
    },
    {
      "cell_type": "code",
      "execution_count": 30,
      "id": "6d36b4a6",
      "metadata": {
        "colab": {
          "base_uri": "https://localhost:8080/"
        },
        "id": "6d36b4a6",
        "outputId": "94a865dd-8932-4e83-ecf1-b55c53bd997c"
      },
      "outputs": [
        {
          "output_type": "stream",
          "name": "stdout",
          "text": [
            "[[1 2 3]\n",
            " [4 5 6]\n",
            " [7 8 9]]\n"
          ]
        }
      ],
      "source": [
        "my_mat=[[1,2,3],[4,5,6],[7,8,9]]\n",
        "mat=np.array(my_mat)\n",
        "print(mat)"
      ]
    },
    {
      "cell_type": "code",
      "execution_count": 31,
      "id": "10b402a0",
      "metadata": {
        "colab": {
          "base_uri": "https://localhost:8080/"
        },
        "id": "10b402a0",
        "outputId": "e855b6f0-1bec-466e-b23f-6e45ea1d1df9"
      },
      "outputs": [
        {
          "output_type": "stream",
          "name": "stdout",
          "text": [
            "Entire row at index 2:  [7 8 9]\n"
          ]
        }
      ],
      "source": [
        "print(\"Entire row at index 2: \",mat[2])"
      ]
    },
    {
      "cell_type": "code",
      "execution_count": 32,
      "id": "1d44b9c7",
      "metadata": {
        "colab": {
          "base_uri": "https://localhost:8080/"
        },
        "id": "1d44b9c7",
        "outputId": "64aef542-3764-4b8f-98b3-3bec99b671f3"
      },
      "outputs": [
        {
          "output_type": "stream",
          "name": "stdout",
          "text": [
            "Entire column at index  3:\n",
            " [[2 3]\n",
            " [5 6]\n",
            " [8 9]]\n"
          ]
        }
      ],
      "source": [
        "print(\"Entire column at index  3:\\n\",mat[:,1:])"
      ]
    },
    {
      "cell_type": "code",
      "execution_count": 33,
      "id": "0c8f73ea",
      "metadata": {
        "colab": {
          "base_uri": "https://localhost:8080/"
        },
        "id": "0c8f73ea",
        "outputId": "184c7a4f-4735-4aa3-9b95-49347bc82176"
      },
      "outputs": [
        {
          "output_type": "stream",
          "name": "stdout",
          "text": [
            "\n",
            "Subsetting Sub-Matricss\n",
            "---------\n",
            "Matrics with row indices 1 and 2 and column indices 3 and 4\n",
            " [[5]]\n"
          ]
        }
      ],
      "source": [
        "print(\"\\nSubsetting Sub-Matricss\\n---------\")\n",
        "print(\"Matrics with row indices 1 and 2 and column indices 3 and 4\\n\",mat[1:2,1:2])"
      ]
    },
    {
      "cell_type": "code",
      "execution_count": 34,
      "id": "d7845d80",
      "metadata": {
        "colab": {
          "base_uri": "https://localhost:8080/"
        },
        "id": "d7845d80",
        "outputId": "a4bc3521-894f-4e2a-8ea9-b451126c9cc2"
      },
      "outputs": [
        {
          "output_type": "stream",
          "name": "stdout",
          "text": [
            "[[1 2 3]\n",
            " [4 5 6]\n",
            " [7 8 9]]\n"
          ]
        }
      ],
      "source": [
        "print(mat)"
      ]
    },
    {
      "cell_type": "code",
      "execution_count": 35,
      "id": "8b32cbba",
      "metadata": {
        "colab": {
          "base_uri": "https://localhost:8080/"
        },
        "id": "8b32cbba",
        "outputId": "2ca6bfa2-30e8-486d-eeca-1a5cb9b4206d"
      },
      "outputs": [
        {
          "output_type": "stream",
          "name": "stdout",
          "text": [
            "[[2 3]\n",
            " [5 6]]\n"
          ]
        }
      ],
      "source": [
        "print(mat[0:2,[1,2]])"
      ]
    },
    {
      "cell_type": "code",
      "execution_count": 36,
      "id": "15562878",
      "metadata": {
        "id": "15562878"
      },
      "outputs": [],
      "source": [
        "#Update Matrix"
      ]
    },
    {
      "cell_type": "code",
      "execution_count": 37,
      "id": "364f58d2",
      "metadata": {
        "colab": {
          "base_uri": "https://localhost:8080/"
        },
        "id": "364f58d2",
        "outputId": "3fc19cfa-9499-4693-bcc4-a7c53f28784e"
      },
      "outputs": [
        {
          "output_type": "stream",
          "name": "stdout",
          "text": [
            "Original Matrix \n",
            "\n",
            " [[1 2 3]\n",
            " [4 5 6]\n",
            " [7 8 9]]\n"
          ]
        }
      ],
      "source": [
        "print(\"Original Matrix \\n\\n\",mat)"
      ]
    },
    {
      "cell_type": "code",
      "execution_count": 38,
      "id": "98eb1524",
      "metadata": {
        "id": "98eb1524"
      },
      "outputs": [],
      "source": [
        "mat[0,2]=200"
      ]
    },
    {
      "cell_type": "code",
      "execution_count": 39,
      "id": "eac605be",
      "metadata": {
        "colab": {
          "base_uri": "https://localhost:8080/"
        },
        "id": "eac605be",
        "outputId": "55dfcb64-713e-4d26-81b9-cbbeddb174b3"
      },
      "outputs": [
        {
          "output_type": "execute_result",
          "data": {
            "text/plain": [
              "array([[  1,   2, 200],\n",
              "       [  4,   5,   6],\n",
              "       [  7,   8,   9]])"
            ]
          },
          "metadata": {},
          "execution_count": 39
        }
      ],
      "source": [
        "mat"
      ]
    },
    {
      "cell_type": "code",
      "execution_count": 40,
      "id": "8164b23c",
      "metadata": {
        "id": "8164b23c"
      },
      "outputs": [],
      "source": [
        "mat[1,0]=100"
      ]
    },
    {
      "cell_type": "code",
      "execution_count": 41,
      "id": "d93a0ddd",
      "metadata": {
        "colab": {
          "base_uri": "https://localhost:8080/"
        },
        "id": "d93a0ddd",
        "outputId": "eb312272-38bd-4217-8cb0-b5767385c3a2"
      },
      "outputs": [
        {
          "output_type": "execute_result",
          "data": {
            "text/plain": [
              "array([[  1,   2, 200],\n",
              "       [100,   5,   6],\n",
              "       [  7,   8,   9]])"
            ]
          },
          "metadata": {},
          "execution_count": 41
        }
      ],
      "source": [
        "mat"
      ]
    },
    {
      "cell_type": "code",
      "execution_count": 42,
      "id": "3cc3a708",
      "metadata": {
        "id": "3cc3a708"
      },
      "outputs": [],
      "source": [
        "#Subsetting-So what is subsetting ? subsetting means when we wann to fetch only few dara from matrix then we use subsetting method."
      ]
    },
    {
      "cell_type": "code",
      "execution_count": 43,
      "id": "39c0825d",
      "metadata": {
        "colab": {
          "base_uri": "https://localhost:8080/"
        },
        "id": "39c0825d",
        "outputId": "03ed12e6-237a-4706-9f0f-5553ba1c52de"
      },
      "outputs": [
        {
          "output_type": "stream",
          "name": "stdout",
          "text": [
            "Matrix of random 2 digit number \n",
            "------\n",
            " [[15 32 37 33 92]\n",
            " [71 98 21 97 81]\n",
            " [81 22 22 29 44]]\n"
          ]
        }
      ],
      "source": [
        "mat=np.array(ri(10,100,15)).reshape(3,5)\n",
        "print('Matrix of random 2 digit number \\n------\\n',mat)"
      ]
    },
    {
      "cell_type": "code",
      "execution_count": 44,
      "id": "7b834833",
      "metadata": {
        "colab": {
          "base_uri": "https://localhost:8080/"
        },
        "id": "7b834833",
        "outputId": "d6fb0f06-c8d0-44d7-988b-47ae1f2aec0a"
      },
      "outputs": [
        {
          "output_type": "stream",
          "name": "stdout",
          "text": [
            "Elements greater than 50\n",
            "  [92 71 98 97 81 81]\n"
          ]
        }
      ],
      "source": [
        "print(\"Elements greater than 50\\n \",mat[mat>50])"
      ]
    },
    {
      "cell_type": "code",
      "execution_count": 45,
      "id": "980340ea",
      "metadata": {
        "colab": {
          "base_uri": "https://localhost:8080/"
        },
        "id": "980340ea",
        "outputId": "7efbbb1c-3c0b-4471-f555-6d29bdcf9a0e"
      },
      "outputs": [
        {
          "output_type": "stream",
          "name": "stdout",
          "text": [
            "(array([1]), array([1]))\n"
          ]
        }
      ],
      "source": [
        "print(np.where(mat==98))"
      ]
    },
    {
      "cell_type": "code",
      "execution_count": 46,
      "id": "42ea2f86",
      "metadata": {
        "id": "42ea2f86"
      },
      "outputs": [],
      "source": [
        "#You can also use np.where to return some data based on condtion"
      ]
    },
    {
      "cell_type": "code",
      "execution_count": 47,
      "id": "7361e631",
      "metadata": {
        "colab": {
          "base_uri": "https://localhost:8080/"
        },
        "id": "7361e631",
        "outputId": "986f17ae-aaf7-482d-877e-030456ebeb4d"
      },
      "outputs": [
        {
          "output_type": "execute_result",
          "data": {
            "text/plain": [
              "array('Still Working', dtype='<U13')"
            ]
          },
          "metadata": {},
          "execution_count": 47
        }
      ],
      "source": [
        "age=50\n",
        "np.where(age>68,'Retired','Still Working')"
      ]
    },
    {
      "cell_type": "code",
      "execution_count": 48,
      "id": "73e022f7",
      "metadata": {
        "id": "73e022f7"
      },
      "outputs": [],
      "source": [
        "#Universal Functions"
      ]
    },
    {
      "cell_type": "code",
      "execution_count": 49,
      "id": "24ee6ddb",
      "metadata": {
        "colab": {
          "base_uri": "https://localhost:8080/"
        },
        "id": "24ee6ddb",
        "outputId": "c6bec46e-2e42-4753-8a8f-5672cd53a32b"
      },
      "outputs": [
        {
          "output_type": "stream",
          "name": "stdout",
          "text": [
            "\n",
            " 1st Matrics of Single digit number \n",
            "---------------\n",
            " [[3 1 1]\n",
            " [6 2 3]\n",
            " [4 4 5]]\n",
            "\n",
            " 2st Matrics of Single digit number \n",
            "---------------\n",
            " [[9 6 6]\n",
            " [1 8 4]\n",
            " [1 3 3]]\n"
          ]
        }
      ],
      "source": [
        "mat1=np.array(ri(1,10,9)).reshape(3,3)\n",
        "mat2=np.array(ri(1,10,9)).reshape(3,3)\n",
        "\n",
        "print(\"\\n 1st Matrics of Single digit number \\n---------------\\n\",mat1)\n",
        "print(\"\\n 2st Matrics of Single digit number \\n---------------\\n\",mat2)"
      ]
    },
    {
      "cell_type": "code",
      "execution_count": 50,
      "id": "f9c33014",
      "metadata": {
        "colab": {
          "base_uri": "https://localhost:8080/"
        },
        "id": "f9c33014",
        "outputId": "f0b21318-3690-4161-8eef-5213c6b09d0a"
      },
      "outputs": [
        {
          "output_type": "stream",
          "name": "stdout",
          "text": [
            "mat1=\n",
            " [[3 1 1]\n",
            " [6 2 3]\n",
            " [4 4 5]]\n",
            "mat2=\n",
            " [[9 6 6]\n",
            " [1 8 4]\n",
            " [1 3 3]]\n"
          ]
        }
      ],
      "source": [
        "print('mat1=\\n',mat1)\n",
        "print('mat2=\\n',mat2)"
      ]
    },
    {
      "cell_type": "code",
      "execution_count": 51,
      "id": "64d0b628",
      "metadata": {
        "colab": {
          "base_uri": "https://localhost:8080/"
        },
        "id": "64d0b628",
        "outputId": "7eb384ec-398b-4377-d9f0-d501a51c8c97"
      },
      "outputs": [
        {
          "output_type": "stream",
          "name": "stdout",
          "text": [
            "\n",
            " Division \n",
            "---------------------\n",
            " [[0.33333333 0.16666667 0.16666667]\n",
            " [6.         0.25       0.75      ]\n",
            " [4.         1.33333333 1.66666667]]\n"
          ]
        }
      ],
      "source": [
        "print(\"\\n Division \\n---------------------\\n\",mat1/mat2)"
      ]
    },
    {
      "cell_type": "code",
      "execution_count": 52,
      "id": "a68631dc",
      "metadata": {
        "colab": {
          "base_uri": "https://localhost:8080/"
        },
        "id": "a68631dc",
        "outputId": "5ebdd1bc-ad0f-4fbb-8b8a-72bb67bc8764"
      },
      "outputs": [
        {
          "output_type": "stream",
          "name": "stdout",
          "text": [
            "\n",
            " Linear combination : 3*A - 2*B \n",
            " [[ -9  -9  -9]\n",
            " [ 16 -10   1]\n",
            " [ 10   6   9]]\n"
          ]
        }
      ],
      "source": [
        "print(\"\\n Linear combination : 3*A - 2*B \\n\",3*mat1-2*mat2)"
      ]
    },
    {
      "cell_type": "code",
      "execution_count": 53,
      "id": "8b5445fa",
      "metadata": {
        "id": "8b5445fa"
      },
      "outputs": [],
      "source": [
        "#Broadcasting-\n",
        "#Numpy operations are usually dont on pairs of arrays on an element by element basis. in the simplest case, the two arays must have exactly the same shape\n",
        "# Numpy broadcasting rules relaxex this constraints when the array shape meet certain constraints when operatings on two array,\n",
        "# Numpy compares their shape element wise it starts with the trailing dimensions ,and word its way forword ,two dimension are compatible\n",
        "#when they are eqaul,or one of them is 1"
      ]
    },
    {
      "cell_type": "code",
      "execution_count": 54,
      "id": "13537c49",
      "metadata": {
        "colab": {
          "base_uri": "https://localhost:8080/"
        },
        "id": "13537c49",
        "outputId": "5382d1fc-33f7-4a46-e385-2b8011ba3f09"
      },
      "outputs": [
        {
          "output_type": "stream",
          "name": "stdout",
          "text": [
            "[[0. 0. 0.]\n",
            " [0. 0. 0.]\n",
            " [0. 0. 0.]]\n"
          ]
        }
      ],
      "source": [
        "start=np.zeros((3,3))\n",
        "print(start)"
      ]
    },
    {
      "cell_type": "code",
      "execution_count": 55,
      "id": "8307ac9a",
      "metadata": {
        "id": "8307ac9a"
      },
      "outputs": [],
      "source": [
        "#create a rank1 ndarray with 3 values"
      ]
    },
    {
      "cell_type": "code",
      "execution_count": 56,
      "id": "853f62a4",
      "metadata": {
        "colab": {
          "base_uri": "https://localhost:8080/"
        },
        "id": "853f62a4",
        "outputId": "d68e1be0-3562-4be5-e557-c0c950629bb2"
      },
      "outputs": [
        {
          "output_type": "stream",
          "name": "stdout",
          "text": [
            "[[1 0 2]]\n"
          ]
        }
      ],
      "source": [
        "add_rows=np.array([[1,0,2]])\n",
        "print(add_rows)"
      ]
    },
    {
      "cell_type": "code",
      "execution_count": 57,
      "id": "d4460da8",
      "metadata": {
        "id": "d4460da8"
      },
      "outputs": [],
      "source": [
        "y=start+add_rows # add to each row of 'start' using broadcasting"
      ]
    },
    {
      "cell_type": "code",
      "execution_count": 58,
      "id": "4895a20b",
      "metadata": {
        "colab": {
          "base_uri": "https://localhost:8080/"
        },
        "id": "4895a20b",
        "outputId": "7cc3a594-a348-4c6e-d6e5-63c04f4c1b7e"
      },
      "outputs": [
        {
          "output_type": "execute_result",
          "data": {
            "text/plain": [
              "array([[1., 0., 2.],\n",
              "       [1., 0., 2.],\n",
              "       [1., 0., 2.]])"
            ]
          },
          "metadata": {},
          "execution_count": 58
        }
      ],
      "source": [
        "y"
      ]
    },
    {
      "cell_type": "code",
      "execution_count": 59,
      "id": "caa124bb",
      "metadata": {
        "id": "caa124bb"
      },
      "outputs": [],
      "source": [
        "new_row=add_rows.T # T is use for transpose it convert column into row #vice versa"
      ]
    },
    {
      "cell_type": "code",
      "execution_count": 60,
      "id": "b3302dfb",
      "metadata": {
        "colab": {
          "base_uri": "https://localhost:8080/"
        },
        "id": "b3302dfb",
        "outputId": "b1d03043-ce73-4f3b-e099-97fc0303134d"
      },
      "outputs": [
        {
          "output_type": "execute_result",
          "data": {
            "text/plain": [
              "array([[1],\n",
              "       [0],\n",
              "       [2]])"
            ]
          },
          "metadata": {},
          "execution_count": 60
        }
      ],
      "source": [
        "new_row"
      ]
    },
    {
      "cell_type": "code",
      "execution_count": 61,
      "id": "d0230dd8",
      "metadata": {
        "colab": {
          "base_uri": "https://localhost:8080/"
        },
        "id": "d0230dd8",
        "outputId": "13075150-4fa2-4eb3-f96a-bad1865a7ed8"
      },
      "outputs": [
        {
          "output_type": "stream",
          "name": "stdout",
          "text": [
            "[[1. 1. 1.]\n",
            " [0. 0. 0.]\n",
            " [2. 2. 2.]]\n"
          ]
        }
      ],
      "source": [
        "test=new_row+start\n",
        "print(test)"
      ]
    },
    {
      "cell_type": "code",
      "execution_count": 62,
      "id": "95442612",
      "metadata": {
        "id": "95442612"
      },
      "outputs": [],
      "source": [
        "#craete table ndarray which is 4 X 1 to broadcast across coloumn"
      ]
    },
    {
      "cell_type": "code",
      "execution_count": 63,
      "id": "db265efc",
      "metadata": {
        "id": "db265efc"
      },
      "outputs": [],
      "source": [
        "ad_cols=np.array([[0,2,2,3]])"
      ]
    },
    {
      "cell_type": "code",
      "execution_count": 64,
      "id": "6fe12713",
      "metadata": {
        "id": "6fe12713"
      },
      "outputs": [],
      "source": [
        "ad_cols=ad_cols.T"
      ]
    },
    {
      "cell_type": "code",
      "execution_count": 65,
      "id": "f03e6df1",
      "metadata": {
        "colab": {
          "base_uri": "https://localhost:8080/"
        },
        "id": "f03e6df1",
        "outputId": "514f4165-b963-467d-c927-023b9f34d161"
      },
      "outputs": [
        {
          "output_type": "execute_result",
          "data": {
            "text/plain": [
              "array([[0],\n",
              "       [2],\n",
              "       [2],\n",
              "       [3]])"
            ]
          },
          "metadata": {},
          "execution_count": 65
        }
      ],
      "source": [
        "ad_cols"
      ]
    },
    {
      "cell_type": "code",
      "execution_count": 66,
      "id": "4e4d7a95",
      "metadata": {
        "id": "4e4d7a95"
      },
      "outputs": [],
      "source": [
        "#Array Math"
      ]
    },
    {
      "cell_type": "code",
      "execution_count": 67,
      "id": "971e3363",
      "metadata": {
        "colab": {
          "base_uri": "https://localhost:8080/"
        },
        "id": "971e3363",
        "outputId": "99a9db08-14e5-44b1-c4ab-2a17a6c5ae61"
      },
      "outputs": [
        {
          "output_type": "stream",
          "name": "stdout",
          "text": [
            "\n",
            " 1st Matrix of random single digit number\n",
            "---------------------------\n",
            " [[4 7 9]\n",
            " [4 7 5]\n",
            " [8 6 4]]\n",
            "\n",
            " 2nd Matrix of random single digit number\n",
            "---------------------------\n",
            " [[1 3 5]\n",
            " [5 1 1]\n",
            " [4 7 9]]\n",
            "\n",
            " sq-root of 1st Matrix using np\n",
            " -------------------------------------------------- \n",
            " [[2.         2.64575131 3.        ]\n",
            " [2.         2.64575131 2.23606798]\n",
            " [2.82842712 2.44948974 2.        ]]\n",
            "\n",
            " square of 2nd Matrix using np\n",
            " -------------------------------------------------- \n",
            " [[ 1  9 25]\n",
            " [25  1  1]\n",
            " [16 49 81]]\n"
          ]
        }
      ],
      "source": [
        "mat1=np.array(ri(1,10,9)).reshape(3,3)\n",
        "mat2=np.array(ri(1,10,9)).reshape(3,3)\n",
        "\n",
        "print(\"\\n 1st Matrix of random single digit number\\n---------------------------\\n\",mat1)\n",
        "print(\"\\n 2nd Matrix of random single digit number\\n---------------------------\\n\",mat2)\n",
        "\n",
        "print(\"\\n sq-root of 1st Matrix using np\\n\",'-'*50,\"\\n\",np.sqrt(mat1))\n",
        "print(\"\\n square of 2nd Matrix using np\\n\",'-'*50,\"\\n\",np.square(mat2))"
      ]
    },
    {
      "cell_type": "code",
      "execution_count": 68,
      "id": "b2b487d7",
      "metadata": {
        "id": "b2b487d7"
      },
      "outputs": [],
      "source": [
        "#Similarly you can apply other function to matrix to matrix\n",
        "#please explore more function and practice"
      ]
    },
    {
      "cell_type": "code",
      "execution_count": 68,
      "id": "f6b85939",
      "metadata": {
        "id": "f6b85939"
      },
      "outputs": [],
      "source": []
    },
    {
      "cell_type": "code",
      "execution_count": 68,
      "id": "80152304-39ed-4d9f-b3c7-f69fc9618edb",
      "metadata": {
        "id": "80152304-39ed-4d9f-b3c7-f69fc9618edb"
      },
      "outputs": [],
      "source": []
    }
  ],
  "metadata": {
    "kernelspec": {
      "display_name": "Python 3 (ipykernel)",
      "language": "python",
      "name": "python3"
    },
    "language_info": {
      "codemirror_mode": {
        "name": "ipython",
        "version": 3
      },
      "file_extension": ".py",
      "mimetype": "text/x-python",
      "name": "python",
      "nbconvert_exporter": "python",
      "pygments_lexer": "ipython3",
      "version": "3.10.12"
    },
    "colab": {
      "provenance": []
    }
  },
  "nbformat": 4,
  "nbformat_minor": 5
}