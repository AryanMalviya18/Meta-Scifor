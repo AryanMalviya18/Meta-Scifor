{
  "cells": [
    {
      "cell_type": "markdown",
      "id": "a2d03c1b-3b7f-4e29-aed5-fe7c3c93a61c",
      "metadata": {
        "id": "a2d03c1b-3b7f-4e29-aed5-fe7c3c93a61c"
      },
      "source": [
        "# Statistics Test 2.0"
      ]
    },
    {
      "cell_type": "markdown",
      "id": "eacdfe41-4c50-4a8d-8af9-25d78ccbab02",
      "metadata": {
        "id": "eacdfe41-4c50-4a8d-8af9-25d78ccbab02"
      },
      "source": [
        "Time - 1.30 Hr\n",
        "\n",
        "\n",
        "Total Marks = 60\n",
        "\n"
      ]
    },
    {
      "cell_type": "markdown",
      "source": [
        "**MCQ**"
      ],
      "metadata": {
        "id": "-h45Y-7UcYVW"
      },
      "id": "-h45Y-7UcYVW"
    },
    {
      "cell_type": "markdown",
      "source": [
        "**Which of the following is a measure of central tendency?**\n",
        "\n",
        "    A) Variance\n",
        "    B) Standard Deviation\n",
        "    C) Mean\n",
        "    D) Range"
      ],
      "metadata": {
        "id": "-0TTQIaXcLJF"
      },
      "id": "-0TTQIaXcLJF"
    },
    {
      "cell_type": "markdown",
      "source": [
        "## Answer:- (c) Mean"
      ],
      "metadata": {
        "id": "G2JDeBoPXoz2"
      },
      "id": "G2JDeBoPXoz2"
    },
    {
      "cell_type": "markdown",
      "source": [
        "**In a dataset with values [2, 4, 4, 6, 8], what is the median?**\n",
        "\n",
        "    A) 4\n",
        "    B) 4.5\n",
        "    C) 6\n",
        "    D) 8"
      ],
      "metadata": {
        "id": "YEex8H5ocLLr"
      },
      "id": "YEex8H5ocLLr"
    },
    {
      "cell_type": "markdown",
      "source": [
        "# Answer:- (a) 4"
      ],
      "metadata": {
        "id": "QYdVlm73XwTD"
      },
      "id": "QYdVlm73XwTD"
    },
    {
      "cell_type": "markdown",
      "source": [
        "**Inferential statistics are used to:**\n",
        "\n",
        "    A) Describe the data's central tendency\n",
        "    B) Summarize the data\n",
        "    C) Make predictions or inferences about a population based on a sample\n",
        "    D) Visualize the data"
      ],
      "metadata": {
        "id": "NLR39gAncLNz"
      },
      "id": "NLR39gAncLNz"
    },
    {
      "cell_type": "markdown",
      "source": [
        "# Answer:- (c) Make predictions or inferences about a population based on a sample"
      ],
      "metadata": {
        "id": "P7GAzvrxX6dU"
      },
      "id": "P7GAzvrxX6dU"
    },
    {
      "cell_type": "markdown",
      "source": [
        "**What does a confidence interval represent?**\n",
        "\n",
        "    A) The range within which the population mean is expected to fall with a certain probability\n",
        "    B) The exact value of the population mean\n",
        "    C) The variability within the sample\n",
        "    D) The number of samples required"
      ],
      "metadata": {
        "id": "gxSeoRancLP9"
      },
      "id": "gxSeoRancLP9"
    },
    {
      "cell_type": "markdown",
      "source": [
        "# Answer:- (a) The range within which the population mean is expected to fall with a certain probability"
      ],
      "metadata": {
        "id": "f1wg8OmeYPV0"
      },
      "id": "f1wg8OmeYPV0"
    },
    {
      "cell_type": "markdown",
      "source": [
        "**According to the Central Limit Theorem, as the sample size increases, the distribution of the sample mean:**\n",
        "\n",
        "    A) Becomes skewed\n",
        "    B) Approaches a normal distribution\n",
        "    C) Remains uniform\n",
        "    D) Becomes bimodal"
      ],
      "metadata": {
        "id": "8VcnEmX9cLSM"
      },
      "id": "8VcnEmX9cLSM"
    },
    {
      "cell_type": "markdown",
      "source": [
        "# Answer:- (b) Approaches a normal distribution"
      ],
      "metadata": {
        "id": "ItNWETaPYZ0E"
      },
      "id": "ItNWETaPYZ0E"
    },
    {
      "cell_type": "markdown",
      "source": [
        "**The Central Limit Theorem is important because:**\n",
        "\n",
        "    A) It helps in defining the exact population distribution\n",
        "    B) It allows for the use of normal distribution to make inferences about sample means\n",
        "    C) It eliminates the need for sampling\n",
        "    D) It ensures sample sizes are always large"
      ],
      "metadata": {
        "id": "mQAz26m_cLUq"
      },
      "id": "mQAz26m_cLUq"
    },
    {
      "cell_type": "markdown",
      "source": [
        "# Answer:- (b) It allows for the use of normal distribution to make inferences about sample means"
      ],
      "metadata": {
        "id": "imVNLne8YpZU"
      },
      "id": "imVNLne8YpZU"
    },
    {
      "cell_type": "markdown",
      "source": [
        "**ANOVA is used to test:**\n",
        "\n",
        "    A) The association between two categorical variables\n",
        "    B) The differences between means of three or more groups\n",
        "    C) The proportion of a sample\n",
        "    D) The correlation between two continuous variables"
      ],
      "metadata": {
        "id": "F1T_g8pgcLWv"
      },
      "id": "F1T_g8pgcLWv"
    },
    {
      "cell_type": "markdown",
      "source": [
        "# Answer:- (b) The differences between means of three or more groups"
      ],
      "metadata": {
        "id": "1nABgr--YzAs"
      },
      "id": "1nABgr--YzAs"
    },
    {
      "cell_type": "markdown",
      "source": [
        "**A p-value less than 0.05 in an ANOVA test indicates:**\n",
        "\n",
        "    A) There is no significant difference between group means\n",
        "    B) The means of at least one group are significantly different from others\n",
        "    C) The variances within groups are equal\n",
        "    D) The sample size is too small"
      ],
      "metadata": {
        "id": "MXX8Exw3dBzd"
      },
      "id": "MXX8Exw3dBzd"
    },
    {
      "cell_type": "markdown",
      "source": [
        "# Answer:- (b) The means of at least one group are significantly different from others"
      ],
      "metadata": {
        "id": "YlZYCoWzZC3F"
      },
      "id": "YlZYCoWzZC3F"
    },
    {
      "cell_type": "markdown",
      "source": [
        "**The chi-square test of independence assesses:**\n",
        "\n",
        "    A) If two continuous variables are related\n",
        "    B) The goodness-of-fit of a model\n",
        "    C) The association between two categorical variables\n",
        "    D) The variance of a single variable"
      ],
      "metadata": {
        "id": "T5dE7-GIdB14"
      },
      "id": "T5dE7-GIdB14"
    },
    {
      "cell_type": "markdown",
      "source": [
        "# Answer:- (c) The association between two categorical variables"
      ],
      "metadata": {
        "id": "zUhooK1BZNsm"
      },
      "id": "zUhooK1BZNsm"
    },
    {
      "cell_type": "markdown",
      "source": [
        "**The two-sample t-test assumes:**\n",
        "\n",
        "    A) Equal variances between the two groups\n",
        "    B) Unequal variances between the two groups\n",
        "    C) No assumption about variances\n",
        "    D) The samples are paired"
      ],
      "metadata": {
        "id": "TbkJYhyNdIa0"
      },
      "id": "TbkJYhyNdIa0"
    },
    {
      "cell_type": "markdown",
      "source": [
        "# Answer:- (a) Equal variances between the two groups"
      ],
      "metadata": {
        "id": "kke4XlHgZfGV"
      },
      "id": "kke4XlHgZfGV"
    },
    {
      "cell_type": "markdown",
      "id": "6b85eac4-9fa5-4a6e-8944-31cfdb85b1f7",
      "metadata": {
        "id": "6b85eac4-9fa5-4a6e-8944-31cfdb85b1f7"
      },
      "source": [
        "# Python Basic Exercise\n",
        "\n",
        "### Solve any three"
      ]
    },
    {
      "cell_type": "markdown",
      "id": "daf26a58-0326-40aa-bdb6-8d765abaa5e8",
      "metadata": {
        "id": "daf26a58-0326-40aa-bdb6-8d765abaa5e8"
      },
      "source": [
        "Que 1 -> You have a list a=[1,2,3,6,9,7,4,5,8], and you have to find the kth element from the list. This means I want to find the 2nd largest number from the list. Similarly, you have to create a function where I pass a number, say 4, and the function will return the 4th largest number from the list."
      ]
    },
    {
      "cell_type": "code",
      "source": [],
      "metadata": {
        "id": "1RFDxAJDbQRu"
      },
      "id": "1RFDxAJDbQRu",
      "execution_count": null,
      "outputs": []
    },
    {
      "cell_type": "markdown",
      "id": "bb4ffbe7-2bd2-47fe-be13-41ce39dde5a7",
      "metadata": {
        "id": "bb4ffbe7-2bd2-47fe-be13-41ce39dde5a7"
      },
      "source": [
        "Que 2-> you have a list [1,8,0,6,4,0,6,0,0,2,0], You need to shift all the zeros to the right , without using any inbuilt function."
      ]
    },
    {
      "cell_type": "code",
      "execution_count": 2,
      "id": "39017c11-1084-4c96-b229-83ba71c15b98",
      "metadata": {
        "id": "39017c11-1084-4c96-b229-83ba71c15b98",
        "colab": {
          "base_uri": "https://localhost:8080/"
        },
        "outputId": "42fba500-c9dc-4872-f89e-9f19ea3c508d"
      },
      "outputs": [
        {
          "output_type": "stream",
          "name": "stdout",
          "text": [
            "[1, 8, 6, 4, 6, 2, 0, 0, 0, 0, 0]\n"
          ]
        }
      ],
      "source": [
        "def x(a):\n",
        "    for i in range(a.count(0)):\n",
        "        a.remove(0)\n",
        "        a.append(0)\n",
        "    return a\n",
        "\n",
        "list = [1,8,0,6,4,0,6,0,0,2,0]\n",
        "print(x(list))"
      ]
    },
    {
      "cell_type": "markdown",
      "id": "8f6bb4bc-9d9f-4f99-ad34-489934da6fb8",
      "metadata": {
        "id": "8f6bb4bc-9d9f-4f99-ad34-489934da6fb8"
      },
      "source": [
        "Que 3->Reverse a string without using any inbuilt function like slicing."
      ]
    },
    {
      "cell_type": "code",
      "execution_count": 3,
      "id": "3cfc4b48-15e0-4fcf-8cb7-1c6171d407e6",
      "metadata": {
        "id": "3cfc4b48-15e0-4fcf-8cb7-1c6171d407e6",
        "colab": {
          "base_uri": "https://localhost:8080/"
        },
        "outputId": "48cedf33-0779-451a-b37d-783036307963"
      },
      "outputs": [
        {
          "output_type": "stream",
          "name": "stdout",
          "text": [
            "nayrA\n"
          ]
        }
      ],
      "source": [
        "string = \"Aryan\"\n",
        "reverse = \"\"\n",
        "for i in string:\n",
        "    reverse = i + reverse\n",
        "print(reverse)"
      ]
    },
    {
      "cell_type": "markdown",
      "id": "58b475ca-89a9-4074-adfa-1b31e6609aaf",
      "metadata": {
        "id": "58b475ca-89a9-4074-adfa-1b31e6609aaf"
      },
      "source": [
        "Que 4-> To find common prefix in array of strings\n",
        "\n",
        "array= ['Abce','Abcjhgj','Abcf']\n",
        "\n",
        "\n",
        "The common prefix among the strings 'Abce', 'Abcjhgj', and 'Abcf' is 'Abc'. So, the common prefix is 'Abc'."
      ]
    },
    {
      "cell_type": "code",
      "source": [],
      "metadata": {
        "id": "kxeUhoacbsz6"
      },
      "id": "kxeUhoacbsz6",
      "execution_count": null,
      "outputs": []
    },
    {
      "cell_type": "markdown",
      "id": "91637a40-f4ed-414d-9c71-c82374cb13a3",
      "metadata": {
        "id": "91637a40-f4ed-414d-9c71-c82374cb13a3"
      },
      "source": [
        "Que 5- Given the list l = [1,2,0,1,2,0,0], I want the output to be ans = [0,0,0,2,2,1,1] without using any inbuilt function"
      ]
    },
    {
      "cell_type": "code",
      "source": [
        "def custom_sort(lst):\n",
        "\n",
        "    count_0 = 0\n",
        "    count_1 = 0\n",
        "    count_2 = 0\n",
        "\n",
        "    for num in lst:\n",
        "        if num == 0:\n",
        "            count_0 += 1\n",
        "        elif num == 1:\n",
        "            count_1 += 1\n",
        "        elif num == 2:\n",
        "            count_2 += 1\n",
        "    sorted_lst = []\n",
        "    sorted_lst.extend([0] * count_0)\n",
        "    sorted_lst.extend([2] * count_2)\n",
        "    sorted_lst.extend([1] * count_1)\n",
        "\n",
        "    return sorted_lst\n",
        "l = [1, 2, 0, 1, 2, 0, 0]\n",
        "ans = custom_sort(l)\n",
        "print(ans)"
      ],
      "metadata": {
        "colab": {
          "base_uri": "https://localhost:8080/"
        },
        "id": "WIUjQyWEb5Qw",
        "outputId": "42682654-4ace-4828-d396-8fbee8a535c0"
      },
      "id": "WIUjQyWEb5Qw",
      "execution_count": 16,
      "outputs": [
        {
          "output_type": "stream",
          "name": "stdout",
          "text": [
            "[0, 0, 0, 2, 2, 1, 1]\n"
          ]
        }
      ]
    },
    {
      "cell_type": "markdown",
      "id": "e17c874f-ffe2-416f-af6c-2ba6e57a0bfd",
      "metadata": {
        "id": "e17c874f-ffe2-416f-af6c-2ba6e57a0bfd"
      },
      "source": [
        "# Statistics Theory Question\n"
      ]
    },
    {
      "cell_type": "markdown",
      "id": "0b748385-fe05-40f2-adc8-5b643f95b906",
      "metadata": {
        "id": "0b748385-fe05-40f2-adc8-5b643f95b906"
      },
      "source": [
        "Que 1- What is Central Limit Theoram ? Explain."
      ]
    },
    {
      "cell_type": "code",
      "execution_count": null,
      "id": "6e9ac27e-7076-4a13-89a6-d0ebe39d10f1",
      "metadata": {
        "id": "6e9ac27e-7076-4a13-89a6-d0ebe39d10f1"
      },
      "outputs": [],
      "source": [
        "# Ans= Central Limit Theorem states that distribution of the sample mean population approaches a normal distribution curve even if we increase the samples."
      ]
    },
    {
      "cell_type": "markdown",
      "id": "8466b61e-24b9-4567-bd63-04d8fb5360ad",
      "metadata": {
        "id": "8466b61e-24b9-4567-bd63-04d8fb5360ad"
      },
      "source": [
        "Que 2- What is CDF(Comulative density function). Explain with mathematics."
      ]
    },
    {
      "cell_type": "code",
      "execution_count": null,
      "id": "02b38da6-fd6a-4ecc-8275-aa85a320f78a",
      "metadata": {
        "id": "02b38da6-fd6a-4ecc-8275-aa85a320f78a"
      },
      "outputs": [],
      "source": [
        "# Ans= For eg:- If f(x) = 0.4, then there is 40% chance that the variable X will be less than or equal to x."
      ]
    },
    {
      "cell_type": "markdown",
      "source": [
        "In simple words, for eg:- if there are some students in a class, and if we want to calculate the probability that a random person chosen has a probability that his height is less than or equal to 160cm, we use CDF. If the value of CDF at 160cm is 0.7, then there is 70% chance that the random chosen student has height less than or equal to 160cm."
      ],
      "metadata": {
        "id": "ZjK2ac4Ge-mt"
      },
      "id": "ZjK2ac4Ge-mt"
    },
    {
      "cell_type": "markdown",
      "id": "6ada9cfc-cb42-4e64-b74e-7befd45cbe4a",
      "metadata": {
        "id": "6ada9cfc-cb42-4e64-b74e-7befd45cbe4a"
      },
      "source": [
        "Que 3- What is Anova test. how we can calculate behind the scene ?"
      ]
    },
    {
      "cell_type": "code",
      "execution_count": null,
      "id": "b2173ae3-80fc-4ba6-bbb9-3013db30a02f",
      "metadata": {
        "id": "b2173ae3-80fc-4ba6-bbb9-3013db30a02f"
      },
      "outputs": [],
      "source": [
        "# Ans= ANOVA is used to compare the differences in means among more than two groups.\n",
        "# ANOVA compares the amount of variation between groups with the amount of variation within groups.\n",
        "# Null Hypothesis , typically is that , all means are equal\n",
        "# The independent variables are categorical\n",
        "# Dependent Variable are continous\n",
        "# F value : Based of F score we will find p value\n",
        "# F=Sample means of betweeen groups /sample means of within groups."
      ]
    },
    {
      "cell_type": "markdown",
      "id": "dffe2da1-3353-4865-85eb-fff2caea349a",
      "metadata": {
        "id": "dffe2da1-3353-4865-85eb-fff2caea349a"
      },
      "source": [
        "Que 4-  What is Chi-Square test. how we will calculate behind the scene."
      ]
    },
    {
      "cell_type": "code",
      "execution_count": null,
      "id": "00d08145-13da-4d6d-a580-fca78914b2d8",
      "metadata": {
        "id": "00d08145-13da-4d6d-a580-fca78914b2d8"
      },
      "outputs": [],
      "source": [
        "Ans="
      ]
    },
    {
      "cell_type": "markdown",
      "source": [
        "The chi squared test can be used to determine wheather your data obeys a known theoretical probablity distribution such as normal or poisson distribution. In simple words it is the measure of Goodness of Fit to a distribution.![image.png](data:image/png;base64,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)"
      ],
      "metadata": {
        "id": "MkwPiHZ5f0kg"
      },
      "id": "MkwPiHZ5f0kg"
    },
    {
      "cell_type": "markdown",
      "source": [
        "The Chi-Sqaure dsitribution Table is a table that shows the critical values of the chi-square distribution .To use the Chi-Square Distribution table ,You only need to know two values.\n",
        "\n",
        "--> The Degrees of Freedom for the chi-square test (means you are allowed to choose/vary the data at the certain extent)\n",
        "\n",
        "--> The alpha level for the test (common choices are 0.01,0.05,0.10)"
      ],
      "metadata": {
        "id": "Ne4DnrAMgcUR"
      },
      "id": "Ne4DnrAMgcUR"
    },
    {
      "cell_type": "markdown",
      "id": "8fec219a-1fe3-41db-a2ba-8a0b5e0b4a43",
      "metadata": {
        "id": "8fec219a-1fe3-41db-a2ba-8a0b5e0b4a43"
      },
      "source": [
        "Que 5-  What is the difference between inferential and descriptive statistics."
      ]
    },
    {
      "cell_type": "code",
      "execution_count": null,
      "id": "6717b5d9-704f-4f01-854a-d89d40cb8568",
      "metadata": {
        "id": "6717b5d9-704f-4f01-854a-d89d40cb8568"
      },
      "outputs": [],
      "source": [
        "Ans="
      ]
    },
    {
      "cell_type": "markdown",
      "source": [
        "Descriptive Statistics apply to the whole population and then we can calculate mean,median,mode of the whole population.\n",
        "Inferential Statistics apply to the **SAMPLE** of the population. After getting some results, we assume the results are same for the whole population."
      ],
      "metadata": {
        "id": "VlkE7Xmcgxqv"
      },
      "id": "VlkE7Xmcgxqv"
    },
    {
      "cell_type": "markdown",
      "id": "d7a2df48-9875-4b6b-ba26-feee4e03b1d5",
      "metadata": {
        "id": "d7a2df48-9875-4b6b-ba26-feee4e03b1d5"
      },
      "source": [
        "Que 6- Explain any 2 distribution."
      ]
    },
    {
      "cell_type": "code",
      "execution_count": null,
      "id": "938bde99-9a25-4a93-b594-182b09b7db61",
      "metadata": {
        "id": "938bde99-9a25-4a93-b594-182b09b7db61"
      },
      "outputs": [],
      "source": [
        "Ans ="
      ]
    },
    {
      "cell_type": "markdown",
      "source": [
        "Normal Distribution:-\n",
        "A normal distribution is the proper term for a probability bell curve. in a normal distribution the mean is zero and the sandard is 1.\n",
        "\n",
        "Symmetric Distribution:-\n",
        "Symmetric Distribution graphs is a perfect graph . and its look like well bell curved. .. and as a data scientist we have to convert all skewed left ,skewed rigth graph to symmetric distribution."
      ],
      "metadata": {
        "id": "jBeiSPZehZ_T"
      },
      "id": "jBeiSPZehZ_T"
    },
    {
      "cell_type": "markdown",
      "id": "5c2a1d3b-bea9-4de6-8018-a120e2d36528",
      "metadata": {
        "id": "5c2a1d3b-bea9-4de6-8018-a120e2d36528"
      },
      "source": [
        "# Statistics Mathematics  Question\n",
        "\n"
      ]
    },
    {
      "cell_type": "markdown",
      "id": "40749fa8-a06d-4d9c-8864-4bb8b24599a3",
      "metadata": {
        "id": "40749fa8-a06d-4d9c-8864-4bb8b24599a3"
      },
      "source": [
        "Que 1 - if I generate heights for 1000 people from a normal distribution, what would be the probability for a new person to have a height of 70 inches using (CDF) then z-score table? take height in inches.\n",
        "\n",
        "#### Mean height (in inches) of the population\n",
        "mean_height = 66\n",
        "\n",
        "#### Standard deviation of heights (in inches) of the population\n",
        "std_dev_height = 3\n",
        "\n",
        "\n",
        "##### Generate data using this code\n",
        "###### Generate heights for 1000 people from a normal distribution\n",
        "heights = np.random.normal(mean_height, std_dev_height, 1000)))"
      ]
    },
    {
      "cell_type": "code",
      "execution_count": 11,
      "id": "e0b6c3a7-4b11-403f-860d-0beab1408712",
      "metadata": {
        "id": "e0b6c3a7-4b11-403f-860d-0beab1408712",
        "colab": {
          "base_uri": "https://localhost:8080/"
        },
        "outputId": "cec9b5eb-fa39-4953-f1b0-350fc4daae29"
      },
      "outputs": [
        {
          "output_type": "stream",
          "name": "stdout",
          "text": [
            "Z-score: 1.3333333333333333\n",
            "Probability: 0.9087887802741321\n"
          ]
        }
      ],
      "source": [
        "import numpy as np\n",
        "import scipy.stats as st\n",
        "mean_height = 66\n",
        "std_dev_height = 3\n",
        "height = 70\n",
        "z_score = (height - mean_height) / std_dev_height\n",
        "probability = st.norm.cdf(z_score)\n",
        "print(\"Z-score:\", z_score)\n",
        "print(\"Probability:\", probability)"
      ]
    },
    {
      "cell_type": "markdown",
      "source": [
        "calculating z score:-\n",
        "z = 70-66/3\n",
        "z = 1.33 (approx)\n",
        "\n",
        "Using Z score to find CDF\n",
        "After using Z-score table,\n",
        "For Z = 1.33, CDF value is 0.9082 (. This means that the probability of a person having a height less than or equal to 70 inches is about 90.82%.)\n"
      ],
      "metadata": {
        "id": "WiqBBChgj3rA"
      },
      "id": "WiqBBChgj3rA"
    },
    {
      "cell_type": "code",
      "execution_count": null,
      "id": "02c423a1-cadd-4780-b2b1-606b36cbb1a9",
      "metadata": {
        "id": "02c423a1-cadd-4780-b2b1-606b36cbb1a9"
      },
      "outputs": [],
      "source": []
    },
    {
      "cell_type": "code",
      "execution_count": null,
      "id": "fc8691b1-9217-45fa-9c79-c7ad3b60b150",
      "metadata": {
        "id": "fc8691b1-9217-45fa-9c79-c7ad3b60b150"
      },
      "outputs": [],
      "source": []
    },
    {
      "cell_type": "code",
      "execution_count": null,
      "id": "5dabad10-7ae0-4827-9d09-6b95ea27deea",
      "metadata": {
        "id": "5dabad10-7ae0-4827-9d09-6b95ea27deea"
      },
      "outputs": [],
      "source": []
    },
    {
      "cell_type": "code",
      "execution_count": null,
      "id": "2ab7b5e6-e40f-450c-becf-eadedda71980",
      "metadata": {
        "id": "2ab7b5e6-e40f-450c-becf-eadedda71980"
      },
      "outputs": [],
      "source": []
    },
    {
      "cell_type": "markdown",
      "id": "99a22f4f-7737-4ef9-9ad0-fb7bd8e0ba46",
      "metadata": {
        "id": "99a22f4f-7737-4ef9-9ad0-fb7bd8e0ba46"
      },
      "source": [
        "Que 2-  Suppose a fitness center manager anticipates the attendance for a particular yoga class throughout the week. Based on historical data and other factors, they estimate the expected attendance in numbers:\n",
        "\n",
        "### Expected Attendance:\n",
        "\n",
        "Monday: 40\n",
        "\n",
        "Tuesday: 45\n",
        "\n",
        "Wednesday: 38\n",
        "\n",
        "Thursday: 50\n",
        "\n",
        "Friday: 55\n",
        "\n",
        "Saturday: 60\n",
        "\n",
        "Sunday: 65\n",
        "\n",
        "However, after the week concludes, the actual attendance is recorded:\n",
        "\n",
        "\n",
        "\n",
        "### Observed (Actual) Attendance:\n",
        "\n",
        "\n",
        "\n",
        "Monday: 38\n",
        "\n",
        "Tuesday: 43\n",
        "\n",
        "Wednesday: 40\n",
        "\n",
        "Thursday: 48\n",
        "\n",
        "Friday: 52\n",
        "\n",
        "Saturday: 58\n",
        "\n",
        "Sunday: 62\n",
        "\n",
        "Ho: There is no significant difference between the expected and observed attendance for the yoga class throughout the week.\n",
        "\n",
        "Ha: There is a significant difference between the expected and observed attendance for the yoga class throughout the week.\n",
        "\n",
        "#### Use chi-square test *Statistical Tools*"
      ]
    },
    {
      "cell_type": "code",
      "source": [
        "import numpy as np\n",
        "from scipy.stats import chi2\n",
        "\n",
        "expected_attendance = np.array([40, 45, 38, 50, 55, 60, 65])\n",
        "observed_attendance = np.array([38, 43, 40, 48, 52, 58, 62])\n",
        "\n",
        "chi_square_statistic = np.sum((observed_attendance - expected_attendance) ** 2 / expected_attendance)\n",
        "\n",
        "degrees_of_freedom = len(expected_attendance) - 1\n",
        "\n",
        "p_value = 1 - chi2.cdf(chi_square_statistic, df=degrees_of_freedom)\n",
        "\n",
        "print(f\"Chi-square Statistic: {chi_square_statistic:}\")\n",
        "print(f\"P-value: {p_value:}\")\n",
        "\n",
        "alpha = 0.05\n",
        "if p_value < alpha:\n",
        "    print(\"Reject the null hypothesis\")\n",
        "else:\n",
        "    print(\"Fail to reject the null hypothesis\")"
      ],
      "metadata": {
        "colab": {
          "base_uri": "https://localhost:8080/"
        },
        "id": "lUbhLX3Qn0NR",
        "outputId": "b127fa67-fa87-4322-ea75-27317a30121e"
      },
      "id": "lUbhLX3Qn0NR",
      "execution_count": 15,
      "outputs": [
        {
          "output_type": "stream",
          "name": "stdout",
          "text": [
            "Chi-square Statistic: 0.7429166155481945\n",
            "P-value: 0.9935176263990592\n",
            "Fail to reject the null hypothesis\n"
          ]
        }
      ]
    },
    {
      "cell_type": "code",
      "execution_count": null,
      "id": "3db52de2-8492-49fa-a11f-9289d5318284",
      "metadata": {
        "id": "3db52de2-8492-49fa-a11f-9289d5318284"
      },
      "outputs": [],
      "source": []
    },
    {
      "cell_type": "markdown",
      "id": "a651ae03-9b6a-4af4-a3e9-97b90bb8913e",
      "metadata": {
        "id": "a651ae03-9b6a-4af4-a3e9-97b90bb8913e"
      },
      "source": [
        "Que3 -> Calculate anova test\n",
        "\n",
        "\n",
        "\n",
        "\n",
        "\n",
        "    | Student_ID | Semester | Total_Marks |\n",
        "    |------------|----------|-------------|\n",
        "    | 1          | Fall     | 85          |\n",
        "    | 2          | Fall     | 78          |\n",
        "    | 3          | Fall     | 92          |\n",
        "    | 4          | Spring   | 88          |\n",
        "    | 5          | Spring   | 75          |\n",
        "    | 6          | Spring   | 82          |\n",
        "    | 7          | Summer   | 90          |\n",
        "    | 8          | Summer   | 86          |\n",
        "    | 9          | Summer   | 79          |    \n",
        "\n",
        "\n",
        "Null Hypothesis (Ho): The average marks of students in each semester are approximately equal.\n",
        "\n",
        "Alternative Hypothesis (Ha): The average marks of students in at least one semester are different."
      ]
    },
    {
      "cell_type": "code",
      "execution_count": 17,
      "id": "f4680b16-587c-4bec-809e-bfe473b7538a",
      "metadata": {
        "id": "f4680b16-587c-4bec-809e-bfe473b7538a",
        "colab": {
          "base_uri": "https://localhost:8080/"
        },
        "outputId": "523bd59d-abe8-475d-95b3-f4d42c4e0a22"
      },
      "outputs": [
        {
          "output_type": "stream",
          "name": "stdout",
          "text": [
            "F-statistic: 0.27\n",
            "P-value: 0.7704\n",
            "Fail to reject the null hypothesis\n"
          ]
        }
      ],
      "source": [
        "import pandas as pd\n",
        "from scipy.stats import f_oneway\n",
        "data = {\n",
        "    'Student_ID': [1, 2, 3, 4, 5, 6, 7, 8, 9],\n",
        "    'Semester': ['Fall', 'Fall', 'Fall', 'Spring', 'Spring', 'Spring', 'Summer', 'Summer', 'Summer'],\n",
        "    'Total_Marks': [85, 78, 92, 88, 75, 82, 90, 86, 79]\n",
        "}\n",
        "\n",
        "df = pd.DataFrame(data)\n",
        "fall_marks = df[df['Semester'] == 'Fall']['Total_Marks']\n",
        "spring_marks = df[df['Semester'] == 'Spring']['Total_Marks']\n",
        "summer_marks = df[df['Semester'] == 'Summer']['Total_Marks']\n",
        "\n",
        "f_stat, p_value = f_oneway(fall_marks, spring_marks, summer_marks)\n",
        "\n",
        "print(f\"F-statistic: {f_stat:.2f}\")\n",
        "print(f\"P-value: {p_value:.4f}\")\n",
        "\n",
        "alpha = 0.05\n",
        "if p_value < alpha:\n",
        "    print(\"Reject the null hypothesis\")\n",
        "else:\n",
        "    print(\"Fail to reject the null hypothesis\")"
      ]
    },
    {
      "cell_type": "code",
      "execution_count": null,
      "id": "cab935e4-8712-49b3-8201-e9f7b446c5a0",
      "metadata": {
        "id": "cab935e4-8712-49b3-8201-e9f7b446c5a0"
      },
      "outputs": [],
      "source": []
    },
    {
      "cell_type": "code",
      "execution_count": null,
      "id": "d53135d4-8642-469e-adc7-cc8665a07a7e",
      "metadata": {
        "id": "d53135d4-8642-469e-adc7-cc8665a07a7e"
      },
      "outputs": [],
      "source": [
        "#Solution only submit in Github"
      ]
    },
    {
      "cell_type": "code",
      "execution_count": null,
      "id": "81d8187f-1a71-40ea-a3ed-6c30f21ad72b",
      "metadata": {
        "id": "81d8187f-1a71-40ea-a3ed-6c30f21ad72b"
      },
      "outputs": [],
      "source": []
    }
  ],
  "metadata": {
    "kernelspec": {
      "display_name": "Python 3 (ipykernel)",
      "language": "python",
      "name": "python3"
    },
    "language_info": {
      "codemirror_mode": {
        "name": "ipython",
        "version": 3
      },
      "file_extension": ".py",
      "mimetype": "text/x-python",
      "name": "python",
      "nbconvert_exporter": "python",
      "pygments_lexer": "ipython3",
      "version": "3.10.12"
    },
    "colab": {
      "provenance": []
    }
  },
  "nbformat": 4,
  "nbformat_minor": 5
}